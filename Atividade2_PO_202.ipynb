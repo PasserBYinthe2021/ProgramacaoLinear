{
  "nbformat": 4,
  "nbformat_minor": 0,
  "metadata": {
    "colab": {
      "name": "Atividade2_PO-202.ipynb",
      "provenance": []
    },
    "kernelspec": {
      "name": "python3",
      "display_name": "Python 3"
    },
    "language_info": {
      "name": "python"
    }
  },
  "cells": [
    {
      "cell_type": "code",
      "source": [
        "%pip install pulp\n",
        "import pulp"
      ],
      "metadata": {
        "colab": {
          "base_uri": "https://localhost:8080/"
        },
        "id": "sIb5RDgqsmGY",
        "outputId": "20768269-5f8e-41a1-d621-dcc3844f623d"
      },
      "execution_count": null,
      "outputs": [
        {
          "output_type": "stream",
          "name": "stdout",
          "text": [
            "Looking in indexes: https://pypi.org/simple, https://us-python.pkg.dev/colab-wheels/public/simple/\n",
            "Collecting pulp\n",
            "  Downloading PuLP-2.6.0-py3-none-any.whl (14.2 MB)\n",
            "\u001b[K     |████████████████████████████████| 14.2 MB 7.3 MB/s \n",
            "\u001b[?25hInstalling collected packages: pulp\n",
            "Successfully installed pulp-2.6.0\n"
          ]
        }
      ]
    },
    {
      "cell_type": "markdown",
      "source": [
        "## Questão 1"
      ],
      "metadata": {
        "id": "lRZWcxBoOq-Z"
      }
    },
    {
      "cell_type": "code",
      "source": [
        "#     min Custo = 0.26*x1+0.32*x2\n",
        "#     0.07*x1+0.21*x2 >= 0.34 (proteína)\n",
        "#     0.82*x1+0.79*x2 >= 2.64 (carboidrato)\n",
        "#     x1 >= 0\n",
        "#     x2 >= 0\n",
        "#     x1= quantidade de milho, x2= quantidade de farelo de soja\n",
        "\n",
        "\n",
        "# Definindo o problema como de maximização\n",
        "prob = pulp.LpProblem('Problema da Ração', pulp.LpMinimize)\n",
        "\n",
        "\n",
        "# Definindo as variáveis de decisão\n",
        "x1 = pulp.LpVariable('Milho', lowBound=0, cat='Continuous')\n",
        "x2 = pulp.LpVariable('Farelo de Soja', lowBound=0, cat='Continuous')\n",
        "\n",
        "#Definindo a função Objetivo\n",
        "Custo=0.26*x1+0.32*x2\n",
        "\n",
        "#Add a função-objetivo\n",
        "prob += Custo\n",
        "\n",
        "\n",
        "\n",
        "#Restrição\n",
        "Proteina = 0.07*x1+0.21*x2\n",
        "Carboidrato =  0.82*x1+0.79*x2\n",
        "\n",
        "\n",
        "#Add restrição \n",
        "prob += (Proteina>=0.34)\n",
        "prob += (Carboidrato>= 2.64)\n",
        "\n",
        "\n",
        "#escrevendo o problema de otimização linear\n",
        "print (prob)\n",
        "\n",
        "# Resolvendo o problema \n",
        "optimization_result = prob.solve()\n",
        "\n",
        "# Verificando se a solução ótima foi encontrada\n",
        "assert optimization_result == pulp.LpStatusOptimal\n",
        "\n",
        "#mostrando o resultado\n",
        "for var in (x1, x2):\n",
        "    print('A quantidade otimizada deverá ser: {:0.3f} kg de {}'.format(var.value(), var.name))\n",
        "    \n",
        "\n",
        "print('O custo minimo é {:0.3f} reais'.format(0.26*x1.value()+0.32*x2.value()))\n",
        "\n"
      ],
      "metadata": {
        "colab": {
          "base_uri": "https://localhost:8080/"
        },
        "id": "h9RqIMJoOpwC",
        "outputId": "d80773db-1236-4ab5-f6a4-073c0539267b"
      },
      "execution_count": null,
      "outputs": [
        {
          "output_type": "stream",
          "name": "stdout",
          "text": [
            "Problema_da_Ração:\n",
            "MINIMIZE\n",
            "0.32*Farelo_de_Soja + 0.26*Milho + 0.0\n",
            "SUBJECT TO\n",
            "_C1: 0.21 Farelo_de_Soja + 0.07 Milho >= 0.34\n",
            "\n",
            "_C2: 0.79 Farelo_de_Soja + 0.82 Milho >= 2.64\n",
            "\n",
            "VARIABLES\n",
            "Farelo_de_Soja Continuous\n",
            "Milho Continuous\n",
            "\n",
            "A quantidade otimizada deverá ser: 2.445 kg de Milho\n",
            "A quantidade otimizada deverá ser: 0.804 kg de Farelo_de_Soja\n",
            "O custo minimo é 0.893 reais\n"
          ]
        },
        {
          "output_type": "stream",
          "name": "stderr",
          "text": [
            "/usr/local/lib/python3.7/dist-packages/pulp/pulp.py:1352: UserWarning: Spaces are not permitted in the name. Converted to '_'\n",
            "  warnings.warn(\"Spaces are not permitted in the name. Converted to '_'\")\n"
          ]
        }
      ]
    },
    {
      "cell_type": "markdown",
      "source": [
        "## Questão 3"
      ],
      "metadata": {
        "id": "gYHcaiKvO1Mo"
      }
    },
    {
      "cell_type": "code",
      "source": [
        "#     min Custo = 190x1 + 200x2 \n",
        "#     1.8 <=  2.5*x1 + 2*x2 <=  2.5 (silicon)\n",
        "#     0.9 <=  1.5*x1 + 1*x2 <=  1.2 (níquel)\n",
        "#     3.2 <=  4*x1 + 3*x2  <=   3.5 (carbono)\n",
        "#     x1 >= 0\n",
        "#     x2 >= 0\n",
        "#     x1 + x2 = 1\n",
        "#     x1= porcentagem de composição da liga 1, x2= porcentagem de composição da liga 2\n",
        "\n",
        "\n",
        "# Definindo o problema como de maximização\n",
        "prob = pulp.LpProblem('Problema do Aço de Preço Otimizado', pulp.LpMinimize)\n",
        "\n",
        "\n",
        "# Definindo as variáveis de decisão\n",
        "x1 = pulp.LpVariable('Liga 1', lowBound=0, cat='Continuous')\n",
        "x2 = pulp.LpVariable('Liga 2', lowBound=0, cat='Continuous')\n",
        "\n",
        "#Definindo a função Objetivo\n",
        "Custo=190*x1 + 200*x2 \n",
        "\n",
        "#Add a função-objetivo\n",
        "prob += Custo\n",
        "\n",
        "\n",
        "\n",
        "#Restrição\n",
        "Silicon = 2.5*x2 + 2*x1\n",
        "Niquel =  1.5*x2 + 1*x1\n",
        "Carbono = 4*x2 + 3*x1\n",
        "\n",
        "#Add restrição \n",
        "prob += (Silicon>=1.8)\n",
        "prob += (Niquel>= 0.9)\n",
        "prob += (Carbono>= 3.2)\n",
        "prob += (Silicon<=2.5)\n",
        "prob += (Niquel<= 1.2)\n",
        "prob += (Carbono<= 3.5)\n",
        "prob += (x1 + x2 >= 1)\n",
        "\n",
        "\n",
        "\n",
        "#escrevendo o problema de otimização linear\n",
        "print (prob)\n",
        "\n",
        "# Resolvendo o problema \n",
        "optimization_result = prob.solve()\n",
        "\n",
        "# Verificando se a solução ótima foi encontrada\n",
        "assert optimization_result == pulp.LpStatusOptimal\n",
        "\n",
        "#mostrando o resultado\n",
        "for var in (x1, x2):\n",
        "    print('A quantidade otimizada deverá ser: {:0.2f} % de {}'.format(var.value()*100, var.name))\n",
        "\n"
      ],
      "metadata": {
        "colab": {
          "base_uri": "https://localhost:8080/"
        },
        "id": "6lw0TVzXO3Ha",
        "outputId": "78a3db6e-b513-4614-e507-d852f399801a"
      },
      "execution_count": null,
      "outputs": [
        {
          "output_type": "stream",
          "name": "stdout",
          "text": [
            "Problema_do_Aço_de_Preço_Otimizado:\n",
            "MINIMIZE\n",
            "190*Liga_1 + 200*Liga_2 + 0\n",
            "SUBJECT TO\n",
            "_C1: 2 Liga_1 + 2.5 Liga_2 >= 1.8\n",
            "\n",
            "_C2: Liga_1 + 1.5 Liga_2 >= 0.9\n",
            "\n",
            "_C3: 3 Liga_1 + 4 Liga_2 >= 3.2\n",
            "\n",
            "_C4: 2 Liga_1 + 2.5 Liga_2 <= 2.5\n",
            "\n",
            "_C5: Liga_1 + 1.5 Liga_2 <= 1.2\n",
            "\n",
            "_C6: 3 Liga_1 + 4 Liga_2 <= 3.5\n",
            "\n",
            "_C7: Liga_1 + Liga_2 >= 1\n",
            "\n",
            "VARIABLES\n",
            "Liga_1 Continuous\n",
            "Liga_2 Continuous\n",
            "\n",
            "A quantidade otimizada deverá ser: 80.00 % de Liga_1\n",
            "A quantidade otimizada deverá ser: 20.00 % de Liga_2\n"
          ]
        }
      ]
    },
    {
      "cell_type": "markdown",
      "source": [
        "## Questão 4\n",
        "\n",
        "$Máx \\; (z = 4x_1 + 2x_2)$  \n",
        "**s.a**  \n",
        "$4x_1+x_2\\le30$  \n",
        "$20x_1+40x_2\\le480$  \n",
        "\n"
      ],
      "metadata": {
        "id": "O6N64xET0Jmm"
      }
    },
    {
      "cell_type": "code",
      "source": [
        "prob = pulp.LpProblem('Questão_4', pulp.LpMaximize)\n",
        "\n",
        "x1 = pulp.LpVariable('chocolate', lowBound=0, cat='Integer')\n",
        "x2 = pulp.LpVariable('morango', lowBound=0, cat='Integer')\n",
        "\n",
        "receita = 4*x1+2*x2\n",
        "\n",
        "prob += receita\n",
        "\n",
        "ovos = 4*x1+x2\n",
        "trabalho = 20*x1+40*x2\n",
        "\n",
        "prob += (ovos <= 30)\n",
        "prob += (trabalho <= 480)\n",
        "\n",
        "print(prob)\n",
        "# Resolvendo o problema \n",
        "optimization_result = prob.solve()\n",
        "\n",
        "# Verificando se a solução ótima foi encontrada\n",
        "assert optimization_result == pulp.LpStatusOptimal\n",
        "\n",
        "#mostrando o resultado\n",
        "for var in (x1, x2):\n",
        "    print('Quantidade ótima de tortas de {}: {:1.0f}'.format(var.name, var.value()))\n"
      ],
      "metadata": {
        "colab": {
          "base_uri": "https://localhost:8080/"
        },
        "id": "9pnkjGTD1Ct-",
        "outputId": "de52b764-e34c-45c4-843d-67fb5e55391b"
      },
      "execution_count": null,
      "outputs": [
        {
          "output_type": "stream",
          "name": "stdout",
          "text": [
            "Questão_4:\n",
            "MAXIMIZE\n",
            "4*chocolate + 2*morango + 0\n",
            "SUBJECT TO\n",
            "_C1: 4 chocolate + morango <= 30\n",
            "\n",
            "_C2: 20 chocolate + 40 morango <= 480\n",
            "\n",
            "VARIABLES\n",
            "0 <= chocolate Integer\n",
            "0 <= morango Integer\n",
            "\n",
            "Quantidade ótima de tortas de chocolate: 5\n",
            "Quantidade ótima de tortas de morango: 9\n"
          ]
        }
      ]
    },
    {
      "cell_type": "markdown",
      "source": [
        "## Questão 5\n",
        "\n",
        " $Min \\; (z = 8x1+7x2+11x3+10y1+6y2+9y3)$\n",
        "\n",
        "**s.a** $x_1,x_2,x_3,y_1,y_2,y_3 \\ge 0 $\n",
        "\n",
        "$x1+x2+x3 = 1$\n",
        "\n",
        "$y_1+y_2+y_3 = 1$\n",
        "\n",
        "$12x_1+25x_2+17x_3+9y_1+20y_2+13y_3\\ge 60$\n",
        "\n",
        "$35x_1+18x_2+56x_3+42y_1+31y_2+49y_3\\ge 150$\n",
        "\n",
        "$37x_1+28x_2+29x_3+53y_1+34y_2+20y_3\\ge 125$"
      ],
      "metadata": {
        "id": "MEnrjGnwLqFV"
      }
    },
    {
      "cell_type": "code",
      "source": [
        "\n",
        "# Definindo o problema como de maximização\n",
        "prob = pulp.LpProblem('Questão_5', pulp.LpMinimize)\n",
        "\n",
        "# Definindo as variáveis de decisão\n",
        "x1 = pulp.LpVariable('Medida1AF', lowBound=0, cat='Continuous')\n",
        "x2 = pulp.LpVariable('Medida2AF', lowBound=0, cat='Continuous')\n",
        "x3 = pulp.LpVariable('Medida3AF', lowBound=0, cat='Continuous')\n",
        "y1 = pulp.LpVariable('Medida1FA', lowBound=0, cat='Continuous')\n",
        "y2 = pulp.LpVariable('Medida2FA', lowBound=0, cat='Continuous')\n",
        "y3 = pulp.LpVariable('Medida3FA', lowBound=0, cat='Continuous')\n",
        "\n",
        "#Definindo a função Objetivo\n",
        "custo = 8*x1+7*x2+11*x3+10*y1+6*y2+9*y3\n",
        "\n",
        "#Add a função-objetivo\n",
        "prob += custo\n",
        "\n",
        "#Restrições\n",
        "probabilidade1 = x1 + x2 + x3\n",
        "probabilidade2 = y1 + y2 + y3\n",
        "A = 12*x1+25*x2+17*x3+9*y1+20*y2+13*y3\n",
        "B = 35*x1+18*x2+56*x3+42*y1+31*y2+49*y3\n",
        "C = 37*x1+28*x2+29*x3+53*y1+34*y2+20*y3\n",
        "\n",
        "#Add restrições\n",
        "prob += (probabilidade1 == 100)\n",
        "prob += (probabilidade2 == 100)\n",
        "prob += (A >= 60)\n",
        "prob += (B >= 150)\n",
        "prob += (C >= 125)\n",
        "\n",
        "#print(prob)\n",
        "\n",
        "# Resolvendo o problema \n",
        "optimization_result = prob.solve()\n",
        "for var in (x1,x2,x3,y1,y2,y3):\n",
        "  print(\"Porcentagem ótima de \",var.name,\":\",var.value())\n",
        "# Verificando se a solução ótima foi encontrada\n",
        "assert optimization_result == pulp.LpStatusOptimal\n"
      ],
      "metadata": {
        "colab": {
          "base_uri": "https://localhost:8080/"
        },
        "id": "Odd0VBL5MWP9",
        "outputId": "6d40ea59-d8e1-4c6f-af8b-6b44159ec760"
      },
      "execution_count": null,
      "outputs": [
        {
          "output_type": "stream",
          "name": "stdout",
          "text": [
            "Porcentagem ótima de  Medida1AF : 0.0\n",
            "Porcentagem ótima de  Medida2AF : 100.0\n",
            "Porcentagem ótima de  Medida3AF : 0.0\n",
            "Porcentagem ótima de  Medida1FA : 0.0\n",
            "Porcentagem ótima de  Medida2FA : 100.0\n",
            "Porcentagem ótima de  Medida3FA : 0.0\n"
          ]
        }
      ]
    },
    {
      "cell_type": "markdown",
      "source": [
        "## Questão 6  \n",
        "### a) \n",
        "$Máx \\; (z = x_1 + x_2)$  \n",
        "**s.a**  \n",
        "$x_1+x_2\\le4$  \n",
        "$x_1-x_2\\ge5$   \n",
        "$x_1,x_2\\ge 0$"
      ],
      "metadata": {
        "id": "k8fTxLyy3G6I"
      }
    },
    {
      "cell_type": "code",
      "source": [
        "prob = pulp.LpProblem('Questão_4a', pulp.LpMaximize)\n",
        "\n",
        "x1 = pulp.LpVariable('x1', lowBound=0, cat='Continuous')\n",
        "x2 = pulp.LpVariable('x2', lowBound=0, cat='Continuous')\n",
        "\n",
        "z = x1+x2\n",
        "\n",
        "prob += z\n",
        "\n",
        "c1 = x1+x2\n",
        "c2 = x1-x2\n",
        "\n",
        "prob += (c1 <=4)\n",
        "prob += (c2 >= 5)\n",
        "\n",
        "print(prob)\n",
        "# Resolvendo o problema \n",
        "optimization_result = prob.solve()\n",
        "\n",
        "# Verificando se a solução ótima foi encontrada\n",
        "assert optimization_result == pulp.LpStatusOptimal\n",
        "\n",
        "#mostrando o resultado\n",
        "for var in (x1, x2):\n",
        "    print('Quantidade ótima de  {}: {:1.0f}'.format(var.name, var.value()))\n",
        "print(\"zmax:\",z)"
      ],
      "metadata": {
        "colab": {
          "base_uri": "https://localhost:8080/",
          "height": 443
        },
        "id": "5yrXNvm-3MuW",
        "outputId": "e6dc82f8-bee9-40e4-cfaf-86e802a23c0b"
      },
      "execution_count": null,
      "outputs": [
        {
          "output_type": "stream",
          "name": "stdout",
          "text": [
            "Questão_4a:\n",
            "MAXIMIZE\n",
            "1*x1 + 1*x2 + 0\n",
            "SUBJECT TO\n",
            "_C1: x1 + x2 <= 4\n",
            "\n",
            "_C2: x1 - x2 >= 5\n",
            "\n",
            "VARIABLES\n",
            "x1 Continuous\n",
            "x2 Continuous\n",
            "\n"
          ]
        },
        {
          "output_type": "error",
          "ename": "AssertionError",
          "evalue": "ignored",
          "traceback": [
            "\u001b[0;31m---------------------------------------------------------------------------\u001b[0m",
            "\u001b[0;31mAssertionError\u001b[0m                            Traceback (most recent call last)",
            "\u001b[0;32m<ipython-input-27-60d6b0d929de>\u001b[0m in \u001b[0;36m<module>\u001b[0;34m\u001b[0m\n\u001b[1;32m     19\u001b[0m \u001b[0;34m\u001b[0m\u001b[0m\n\u001b[1;32m     20\u001b[0m \u001b[0;31m# Verificando se a solução ótima foi encontrada\u001b[0m\u001b[0;34m\u001b[0m\u001b[0;34m\u001b[0m\u001b[0;34m\u001b[0m\u001b[0m\n\u001b[0;32m---> 21\u001b[0;31m \u001b[0;32massert\u001b[0m \u001b[0moptimization_result\u001b[0m \u001b[0;34m==\u001b[0m \u001b[0mpulp\u001b[0m\u001b[0;34m.\u001b[0m\u001b[0mLpStatusOptimal\u001b[0m\u001b[0;34m\u001b[0m\u001b[0;34m\u001b[0m\u001b[0m\n\u001b[0m\u001b[1;32m     22\u001b[0m \u001b[0;34m\u001b[0m\u001b[0m\n\u001b[1;32m     23\u001b[0m \u001b[0;31m#mostrando o resultado\u001b[0m\u001b[0;34m\u001b[0m\u001b[0;34m\u001b[0m\u001b[0;34m\u001b[0m\u001b[0m\n",
            "\u001b[0;31mAssertionError\u001b[0m: "
          ]
        }
      ]
    },
    {
      "cell_type": "markdown",
      "source": [
        "### b) \n",
        "$Máx \\; (z = 4x_1 + x_2)$  \n",
        "**s.a**  \n",
        "$8x_1+2x_2\\le16$  \n",
        "$5x_1+2x_2\\le12$   \n",
        "$x_1,x_2\\ge 0$"
      ],
      "metadata": {
        "id": "OgDDCEZj_EWn"
      }
    },
    {
      "cell_type": "code",
      "source": [
        "prob = pulp.LpProblem('Questão_b', pulp.LpMaximize)\n",
        "\n",
        "x1 = pulp.LpVariable('x1', lowBound=0, cat='Continuous')\n",
        "x2 = pulp.LpVariable('x2', lowBound=0, cat='Continuous')\n",
        "\n",
        "z = 4*x1+x2\n",
        "\n",
        "prob += z\n",
        "\n",
        "c1 = 8*x1+2*x2\n",
        "c2 = 5*x1+2*x2\n",
        "\n",
        "prob += (c1 <= 16)\n",
        "prob += (c2 <= 12)\n",
        "\n",
        "print(prob)\n",
        "# Resolvendo o problema \n",
        "optimization_result = prob.solve()\n",
        "\n",
        "# Verificando se a solução ótima foi encontrada\n",
        "assert optimization_result == pulp.LpStatusOptimal\n",
        "\n",
        "#mostrando o resultado\n",
        "for var in (x1, x2):\n",
        "    print('Quantidade ótima de  {}: {:1.0f}'.format(var.name, var.value()))\n",
        "print(\"zmax:\",z.value())"
      ],
      "metadata": {
        "colab": {
          "base_uri": "https://localhost:8080/"
        },
        "id": "M-V78LUf_VU-",
        "outputId": "bd7ba30c-1077-48c4-d55e-a77c5939ce9c"
      },
      "execution_count": null,
      "outputs": [
        {
          "output_type": "stream",
          "name": "stdout",
          "text": [
            "Questão_4a:\n",
            "MAXIMIZE\n",
            "4*x1 + 1*x2 + 0\n",
            "SUBJECT TO\n",
            "_C1: 8 x1 + 2 x2 <= 16\n",
            "\n",
            "_C2: 5 x1 + 2 x2 <= 12\n",
            "\n",
            "VARIABLES\n",
            "x1 Continuous\n",
            "x2 Continuous\n",
            "\n",
            "Quantidade ótima de  x1: 2\n",
            "Quantidade ótima de  x2: 0\n",
            "zmax: 8.0\n"
          ]
        }
      ]
    },
    {
      "cell_type": "markdown",
      "source": [
        "### c) \n",
        "$Máx \\; (z = -x_1 + 3x_2)$  \n",
        "**s.a**  \n",
        "$x_1-x_2\\le4$  \n",
        "$x_1+2x_2\\ge4$   \n",
        "$x_1,x_2\\ge 0$"
      ],
      "metadata": {
        "id": "zouFWa76CVdY"
      }
    },
    {
      "cell_type": "code",
      "source": [
        "prob = pulp.LpProblem('Questão_c', pulp.LpMaximize)\n",
        "\n",
        "x1 = pulp.LpVariable('x1', lowBound=0, cat='Continuous')\n",
        "x2 = pulp.LpVariable('x2', lowBound=0, cat='Continuous')\n",
        "\n",
        "z = -x1+3*x2\n",
        "\n",
        "prob += z\n",
        "\n",
        "c1 = x1-x2\n",
        "c2 = x1+2*x2\n",
        "\n",
        "prob += (c1 <= 4)\n",
        "prob += (c2 >= 4)\n",
        "\n",
        "print(prob)\n",
        "# Resolvendo o problema \n",
        "optimization_result = prob.solve()\n",
        "# Verificando se a solução ótima foi encontrada\n",
        "assert optimization_result == pulp.LpStatusOptimal\n",
        "\n",
        "#mostrando o resultado\n",
        "for var in (x1, x2):\n",
        "    print('Quantidade ótima de  {}: {:1.0f}'.format(var.name, var.value()))\n",
        "print(\"zmax:\",z.value())"
      ],
      "metadata": {
        "colab": {
          "base_uri": "https://localhost:8080/",
          "height": 443
        },
        "id": "_d9Y4G_ECtR-",
        "outputId": "de18b44c-8afe-4991-c230-1cbe096cc0c6"
      },
      "execution_count": null,
      "outputs": [
        {
          "output_type": "stream",
          "name": "stdout",
          "text": [
            "Questão_c:\n",
            "MAXIMIZE\n",
            "-1*x1 + 3*x2 + 0\n",
            "SUBJECT TO\n",
            "_C1: x1 - x2 <= 4\n",
            "\n",
            "_C2: x1 + 2 x2 >= 4\n",
            "\n",
            "VARIABLES\n",
            "x1 Continuous\n",
            "x2 Continuous\n",
            "\n"
          ]
        },
        {
          "output_type": "error",
          "ename": "AssertionError",
          "evalue": "ignored",
          "traceback": [
            "\u001b[0;31m---------------------------------------------------------------------------\u001b[0m",
            "\u001b[0;31mAssertionError\u001b[0m                            Traceback (most recent call last)",
            "\u001b[0;32m<ipython-input-35-b54b9ad91a57>\u001b[0m in \u001b[0;36m<module>\u001b[0;34m\u001b[0m\n\u001b[1;32m     18\u001b[0m \u001b[0moptimization_result\u001b[0m \u001b[0;34m=\u001b[0m \u001b[0mprob\u001b[0m\u001b[0;34m.\u001b[0m\u001b[0msolve\u001b[0m\u001b[0;34m(\u001b[0m\u001b[0;34m)\u001b[0m\u001b[0;34m\u001b[0m\u001b[0;34m\u001b[0m\u001b[0m\n\u001b[1;32m     19\u001b[0m \u001b[0;31m# Verificando se a solução ótima foi encontrada\u001b[0m\u001b[0;34m\u001b[0m\u001b[0;34m\u001b[0m\u001b[0;34m\u001b[0m\u001b[0m\n\u001b[0;32m---> 20\u001b[0;31m \u001b[0;32massert\u001b[0m \u001b[0moptimization_result\u001b[0m \u001b[0;34m==\u001b[0m \u001b[0mpulp\u001b[0m\u001b[0;34m.\u001b[0m\u001b[0mLpStatusOptimal\u001b[0m\u001b[0;34m\u001b[0m\u001b[0;34m\u001b[0m\u001b[0m\n\u001b[0m\u001b[1;32m     21\u001b[0m \u001b[0;34m\u001b[0m\u001b[0m\n\u001b[1;32m     22\u001b[0m \u001b[0;31m#mostrando o resultado\u001b[0m\u001b[0;34m\u001b[0m\u001b[0;34m\u001b[0m\u001b[0;34m\u001b[0m\u001b[0m\n",
            "\u001b[0;31mAssertionError\u001b[0m: "
          ]
        }
      ]
    },
    {
      "cell_type": "markdown",
      "source": [
        "### d) \n",
        "$Máx \\; (z = 3x_1 + x_2)$  \n",
        "**s.a**  \n",
        "$2x_1+x_2\\le6$  \n",
        "$x_1+3x_2\\le9$   \n",
        "$x_1,x_2\\ge 0$"
      ],
      "metadata": {
        "id": "Q5-1OxP8Fk5w"
      }
    },
    {
      "cell_type": "code",
      "source": [
        "prob = pulp.LpProblem('Questão_c', pulp.LpMaximize)\n",
        "\n",
        "x1 = pulp.LpVariable('x1', lowBound=0, cat='Continuous')\n",
        "x2 = pulp.LpVariable('x2', lowBound=0, cat='Continuous')\n",
        "\n",
        "z = 3*x1+x2\n",
        "\n",
        "prob += z\n",
        "\n",
        "c1 = 2*x1+x2\n",
        "c2 = x1+3*x2\n",
        "\n",
        "prob += (c1 <= 6)\n",
        "prob += (c2 <= 9)\n",
        "\n",
        "print(prob)\n",
        "# Resolvendo o problema \n",
        "optimization_result = prob.solve()\n",
        "# Verificando se a solução ótima foi encontrada\n",
        "assert optimization_result == pulp.LpStatusOptimal\n",
        "\n",
        "#mostrando o resultado\n",
        "for var in (x1, x2):\n",
        "    print('Quantidade ótima de  {}: {:1.0f}'.format(var.name, var.value()))\n",
        "print(\"zmax:\",z.value())"
      ],
      "metadata": {
        "colab": {
          "base_uri": "https://localhost:8080/"
        },
        "id": "wfAEObgXF3rZ",
        "outputId": "8e75ffca-5b0c-4115-8e2b-7e0cd64a7f21"
      },
      "execution_count": null,
      "outputs": [
        {
          "output_type": "stream",
          "name": "stdout",
          "text": [
            "Questão_c:\n",
            "MAXIMIZE\n",
            "3*x1 + 1*x2 + 0\n",
            "SUBJECT TO\n",
            "_C1: 2 x1 + x2 <= 6\n",
            "\n",
            "_C2: x1 + 3 x2 <= 9\n",
            "\n",
            "VARIABLES\n",
            "x1 Continuous\n",
            "x2 Continuous\n",
            "\n",
            "Quantidade ótima de  x1: 3\n",
            "Quantidade ótima de  x2: 0\n",
            "zmax: 9.0\n"
          ]
        }
      ]
    }
  ]
}